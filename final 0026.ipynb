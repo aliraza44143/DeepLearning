{
  "nbformat": 4,
  "nbformat_minor": 0,
  "metadata": {
    "colab": {
      "provenance": [],
      "toc_visible": true
    },
    "kernelspec": {
      "name": "python3",
      "display_name": "Python 3"
    },
    "language_info": {
      "name": "python"
    }
  },
  "cells": [
    {
      "cell_type": "code",
      "source": [
        "import numpy as np\n",
        "import matplotlib.pyplot as plt\n"
      ],
      "metadata": {
        "id": "WNKbhwky0avX"
      },
      "execution_count": 7,
      "outputs": []
    },
    {
      "cell_type": "code",
      "source": [
        "# Sigmoid and its derivative\n",
        "def sigmoid(x):\n",
        "    return 1 / (1 + np.exp(-x))\n",
        "\n",
        "def sigmoid_derivative(x):\n",
        "    return x * (1 - x)\n"
      ],
      "metadata": {
        "id": "A8uMY_9I0enG"
      },
      "execution_count": 8,
      "outputs": []
    },
    {
      "cell_type": "code",
      "source": [
        "# Training dataset (X) and expected output (R)\n",
        "X = np.array([\n",
        "    [0, 0],\n",
        "    [0, 1],\n",
        "    [1, 0],\n",
        "    [1, 1]\n",
        "])\n",
        "\n",
        "R = np.array([\n",
        "    [0, 0],\n",
        "    [1, 0],\n",
        "    [1, 0],\n",
        "    [0, 1]\n",
        "])\n"
      ],
      "metadata": {
        "id": "topxaLKx0gMu"
      },
      "execution_count": 9,
      "outputs": []
    },
    {
      "cell_type": "code",
      "source": [
        "# Set seed for reproducibility\n",
        "np.random.seed(42)\n",
        "\n",
        "# Initialize weights and biases for S2222 structure\n",
        "W1 = np.random.uniform(-1, 1, (2, 2))  # Input to Hidden1\n",
        "b1 = np.zeros((1, 2))\n",
        "\n",
        "W2 = np.random.uniform(-1, 1, (2, 2))  # Hidden1 to Hidden2\n",
        "b2 = np.zeros((1, 2))\n",
        "\n",
        "W3 = np.random.uniform(-1, 1, (2, 2))  # Hidden2 to Output\n",
        "b3 = np.zeros((1, 2))\n"
      ],
      "metadata": {
        "id": "YBRNsV5I0jne"
      },
      "execution_count": 10,
      "outputs": []
    },
    {
      "cell_type": "code",
      "source": [
        "# Hyperparameters\n",
        "learning_rate = 0.5\n",
        "epochs = 10000\n",
        "errors = []\n"
      ],
      "metadata": {
        "id": "InvSif4f0mcm"
      },
      "execution_count": 11,
      "outputs": []
    },
    {
      "cell_type": "code",
      "source": [
        "for epoch in range(epochs):\n",
        "    # -------- Forward Propagation --------\n",
        "    Z1 = np.dot(X, W1) + b1\n",
        "    A1 = sigmoid(Z1)\n",
        "\n",
        "    Z2 = np.dot(A1, W2) + b2\n",
        "    A2 = sigmoid(Z2)\n",
        "\n",
        "    Z3 = np.dot(A2, W3) + b3\n",
        "    A3 = sigmoid(Z3)  # Final output\n",
        "\n",
        "    # -------- Error Calculation --------\n",
        "    error = R - A3\n",
        "    total_error = np.mean(np.square(error))\n",
        "    errors.append(total_error)\n",
        "\n",
        "    # -------- Backward Propagation --------\n",
        "    dA3 = error * sigmoid_derivative(A3)\n",
        "    dW3 = np.dot(A2.T, dA3)\n",
        "    db3 = np.sum(dA3, axis=0, keepdims=True)\n",
        "\n",
        "    dA2 = np.dot(dA3, W3.T) * sigmoid_derivative(A2)\n",
        "    dW2 = np.dot(A1.T, dA2)\n",
        "    db2 = np.sum(dA2, axis=0, keepdims=True)\n",
        "\n",
        "    dA1 = np.dot(dA2, W2.T) * sigmoid_derivative(A1)\n",
        "    dW1 = np.dot(X.T, dA1)\n",
        "    db1 = np.sum(dA1, axis=0, keepdims=True)\n",
        "\n",
        "    # -------- Update weights and biases --------\n",
        "    W3 += learning_rate * dW3\n",
        "    b3 += learning_rate * db3\n",
        "    W2 += learning_rate * dW2\n",
        "    b2 += learning_rate * db2\n",
        "    W1 += learning_rate * dW1\n",
        "    b1 += learning_rate * db1\n"
      ],
      "metadata": {
        "id": "nuLEg46c0pV2"
      },
      "execution_count": 12,
      "outputs": []
    },
    {
      "cell_type": "code",
      "source": [
        "# Final Predictions\n",
        "print(\"Final Output Predictions:\")\n",
        "predictions = np.round(A3, 3)\n",
        "for i in range(len(X)):\n",
        "    print(f\"Input: {X[i]} → Predicted: {predictions[i]} | Expected: {R[i]}\")\n"
      ],
      "metadata": {
        "colab": {
          "base_uri": "https://localhost:8080/"
        },
        "id": "H1PtL3Oz0sid",
        "outputId": "898a85ee-a4f4-49cf-b955-28256e97dfbd"
      },
      "execution_count": 13,
      "outputs": [
        {
          "output_type": "stream",
          "name": "stdout",
          "text": [
            "Final Output Predictions:\n",
            "Input: [0 0] → Predicted: [0.016 0.   ] | Expected: [0 0]\n",
            "Input: [0 1] → Predicted: [0.982 0.013] | Expected: [1 0]\n",
            "Input: [1 0] → Predicted: [0.982 0.013] | Expected: [1 0]\n",
            "Input: [1 1] → Predicted: [0.016 0.985] | Expected: [0 1]\n"
          ]
        }
      ]
    },
    {
      "cell_type": "code",
      "source": [
        "# Plot total error over training\n",
        "plt.plot(errors)\n",
        "plt.title(\"Total Error over Epochs\")\n",
        "plt.xlabel(\"Epoch\")\n",
        "plt.ylabel(\"Error\")\n",
        "plt.grid(True)\n",
        "plt.show()\n"
      ],
      "metadata": {
        "colab": {
          "base_uri": "https://localhost:8080/",
          "height": 472
        },
        "id": "RV8e8J3N0ybF",
        "outputId": "806f967a-2b57-49b4-c540-5d50d3953423"
      },
      "execution_count": 14,
      "outputs": [
        {
          "output_type": "display_data",
          "data": {
            "text/plain": [
              "<Figure size 640x480 with 1 Axes>"
            ],
            "image/png": "[encoded data removed]"
          },
          "metadata": {}
        }
      ]
    }
  ]
}