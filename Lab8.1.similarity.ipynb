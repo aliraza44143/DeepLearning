{
  "nbformat": 4,
  "nbformat_minor": 0,
  "metadata": {
    "colab": {
      "provenance": []
    },
    "kernelspec": {
      "name": "python3",
      "display_name": "Python 3"
    },
    "language_info": {
      "name": "python"
    }
  },
  "cells": [
    {
      "cell_type": "code",
      "execution_count": 1,
      "metadata": {
        "id": "Q3aWLov5qtG6"
      },
      "outputs": [],
      "source": [
        "import numpy as np\n",
        "from sklearn.metrics.pairwise import cosine_similarity\n",
        "\n",
        "# Define terms and vectors from the example\n",
        "terms = [\n",
        "    \"apple juice\",\n",
        "    \"cappuccino\",\n",
        "    \"cheese bread sticks\",\n",
        "    \"cheese pizza\",\n",
        "    \"cinnamon bread sticks\",\n",
        "    \"donut\",\n",
        "    \"green tea\",\n",
        "    \"latte\",\n",
        "    \"soda\",\n",
        "    \"water\"\n",
        "]\n",
        "\n",
        "vectors = np.array([\n",
        "    [1, 5, 0, 0, 0, 4, 4, 3],\n",
        "    [0, 5, 3, 0, 4, 1, 2, 3],\n",
        "    [5, 0, 4, 5, 0, 1, 4, 2],\n",
        "    [5, 0, 4, 4, 0, 1, 5, 2],\n",
        "    [5, 0, 4, 5, 0, 1, 4, 2],\n",
        "    [5, 0, 1, 5, 0, 4, 5, 1],\n",
        "    [0, 5, 0, 0, 2, 1, 1, 5],\n",
        "    [0, 5, 4, 0, 4, 1, 3, 3],\n",
        "    [0, 5, 0, 0, 3, 5, 5, 0],\n",
        "    [0, 5, 0, 0, 0, 0, 0, 5]\n",
        "])\n"
      ]
    },
    {
      "cell_type": "code",
      "source": [
        "# Function to calculate and print similarity scores\n",
        "def print_similarities(target_term, all_terms, all_vectors):\n",
        "    # Find the target term's index\n",
        "    target_index = all_terms.index(target_term)\n",
        "    target_vector = all_vectors[target_index].reshape(1, -1)\n",
        "\n",
        "    # Calculate cosine similarities with all other terms\n",
        "    similarities = cosine_similarity(target_vector, all_vectors)[0]\n",
        "\n",
        "    # Pair terms with their similarity scores\n",
        "    term_scores = list(zip(all_terms, similarities))\n",
        "\n",
        "    # Sort by similarity (descending) and exclude self-comparison\n",
        "    term_scores_sorted = sorted(term_scores, key=lambda x: x[1], reverse=True)\n",
        "    term_scores_sorted = [item for item in term_scores_sorted if item[0] != target_term]\n",
        "\n",
        "    # Print results\n",
        "    print(f\"\\nVector Similarity Scores: {target_term}\")\n",
        "    for term, score in term_scores_sorted:\n",
        "        print(f\"{score:.2f} {term}\")\n"
      ],
      "metadata": {
        "id": "Nj_DOnGmqueu"
      },
      "execution_count": 2,
      "outputs": []
    },
    {
      "cell_type": "code",
      "source": [
        "# Calculate and print similarities for the target term \"green tea\"\n",
        "print_similarities(\"green tea\", terms, vectors)\n"
      ],
      "metadata": {
        "colab": {
          "base_uri": "https://localhost:8080/"
        },
        "id": "kvJweVbnqy7F",
        "outputId": "167c9e74-12f3-4d61-d8ba-85878f4c07e4"
      },
      "execution_count": 3,
      "outputs": [
        {
          "output_type": "stream",
          "name": "stdout",
          "text": [
            "\n",
            "Vector Similarity Scores: green tea\n",
            "0.94 water\n",
            "0.85 cappuccino\n",
            "0.80 latte\n",
            "0.78 apple juice\n",
            "0.60 soda\n",
            "0.23 cheese pizza\n",
            "0.21 cheese bread sticks\n",
            "0.21 cinnamon bread sticks\n",
            "0.19 donut\n"
          ]
        }
      ]
    },
    {
      "cell_type": "code",
      "source": [
        "# Calculate and print similarities for the target term \"cheese pizza\"\n",
        "print_similarities(\"cheese pizza\", terms, vectors)\n"
      ],
      "metadata": {
        "colab": {
          "base_uri": "https://localhost:8080/"
        },
        "id": "fAk3YCLjq2KN",
        "outputId": "6e105132-2b30-477d-f1ea-816a84094907"
      },
      "execution_count": 4,
      "outputs": [
        {
          "output_type": "stream",
          "name": "stdout",
          "text": [
            "\n",
            "Vector Similarity Scores: cheese pizza\n",
            "0.99 cheese bread sticks\n",
            "0.99 cinnamon bread sticks\n",
            "0.89 donut\n",
            "0.47 latte\n",
            "0.46 apple juice\n",
            "0.39 cappuccino\n",
            "0.35 soda\n",
            "0.23 green tea\n",
            "0.15 water\n"
          ]
        }
      ]
    },
    {
      "cell_type": "code",
      "source": [
        "# Calculate and print similarities for the target term \"donut\"\n",
        "print_similarities(\"donut\", terms, vectors)\n"
      ],
      "metadata": {
        "colab": {
          "base_uri": "https://localhost:8080/"
        },
        "id": "GDgWRsH9q4pl",
        "outputId": "3faeaa16-8b3e-406e-a4d3-f2614fbf2c67"
      },
      "execution_count": 5,
      "outputs": [
        {
          "output_type": "stream",
          "name": "stdout",
          "text": [
            "\n",
            "Vector Similarity Scores: donut\n",
            "0.89 cheese bread sticks\n",
            "0.89 cheese pizza\n",
            "0.89 cinnamon bread sticks\n",
            "0.56 apple juice\n",
            "0.51 soda\n",
            "0.31 latte\n",
            "0.26 cappuccino\n",
            "0.19 green tea\n",
            "0.07 water\n"
          ]
        }
      ]
    }
  ]
}